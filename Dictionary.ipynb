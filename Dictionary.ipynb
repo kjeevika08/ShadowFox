{
  "metadata": {
    "kernelspec": {
      "name": "python",
      "display_name": "Python (Pyodide)",
      "language": "python"
    },
    "language_info": {
      "codemirror_mode": {
        "name": "python",
        "version": 3
      },
      "file_extension": ".py",
      "mimetype": "text/x-python",
      "name": "python",
      "nbconvert_exporter": "python",
      "pygments_lexer": "ipython3",
      "version": "3.8"
    }
  },
  "nbformat_minor": 5,
  "nbformat": 4,
  "cells": [
    {
      "id": "e1a0c4a6-77bf-47bf-b512-0df8505935cc",
      "cell_type": "code",
      "source": "# List of friends' names\nfriends = [\"Aditya\", \"Bhavani\", \"Kiran\", \"Meena\", \"Ravi\"]\n\n# Create a list of tuples (name, length of name)\nfriends_with_length = [(name, len(name)) for name in friends]\n\n# Print the result\nprint(\"Friends list:\", friends)\nprint(\"List of (name, length):\", friends_with_length)\n",
      "metadata": {
        "trusted": true
      },
      "outputs": [
        {
          "name": "stdout",
          "output_type": "stream",
          "text": "Friends list: ['Aditya', 'Bhavani', 'Kiran', 'Meena', 'Ravi']\nList of (name, length): [('Aditya', 6), ('Bhavani', 7), ('Kiran', 5), ('Meena', 5), ('Ravi', 4)]\n"
        }
      ],
      "execution_count": 1
    },
    {
      "id": "64fa29a8-7baa-4731-87ee-c96929a66b8d",
      "cell_type": "code",
      "source": "# Your expenses\nyour_expenses = {\n    \"Hotel\": 1200,\n    \"Food\": 800,\n    \"Transportation\": 500,\n    \"Attractions\": 300,\n    \"Miscellaneous\": 200\n}\n\n# Partner's expenses\npartner_expenses = {\n    \"Hotel\": 1000,\n    \"Food\": 900,\n    \"Transportation\": 600,\n    \"Attractions\": 400,\n    \"Miscellaneous\": 150\n}\n\n# 1. Calculate totals\nyour_total = sum(your_expenses.values())\npartner_total = sum(partner_expenses.values())\n\nprint(\"Your total expenses:\", your_total)\nprint(\"Partner's total expenses:\", partner_total)\n\n# 2. Determine who spent more\nif your_total > partner_total:\n    print(\"You spent more overall.\")\nelif partner_total > your_total:\n    print(\"Your partner spent more overall.\")\nelse:\n    print(\"You both spent the same amount.\")\n\n# 3. Find category with largest difference\nmax_diff = 0\ndiff_category = None\n\nfor category in your_expenses:\n    difference = abs(your_expenses[category] - partner_expenses[category])\n    if difference > max_diff:\n        max_diff = difference\n        diff_category = category\n\nprint(f\"The largest spending difference is in '{diff_category}' with a difference of {max_diff}.\")\n",
      "metadata": {
        "trusted": true
      },
      "outputs": [
        {
          "name": "stdout",
          "output_type": "stream",
          "text": "Your total expenses: 3000\nPartner's total expenses: 3050\nYour partner spent more overall.\nThe largest spending difference is in 'Hotel' with a difference of 200.\n"
        }
      ],
      "execution_count": 2
    },
    {
      "id": "7c9a285f-0ebe-499e-b2d6-588cce08e54d",
      "cell_type": "code",
      "source": "",
      "metadata": {
        "trusted": true
      },
      "outputs": [],
      "execution_count": null
    },
    {
      "id": "b4023221-8275-418a-ad0c-b588ea676a83",
      "cell_type": "code",
      "source": "",
      "metadata": {
        "trusted": true
      },
      "outputs": [],
      "execution_count": null
    }
  ]
}