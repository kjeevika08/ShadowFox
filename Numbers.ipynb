{
  "metadata": {
    "kernelspec": {
      "name": "python",
      "display_name": "Python (Pyodide)",
      "language": "python"
    },
    "language_info": {
      "codemirror_mode": {
        "name": "python",
        "version": 3
      },
      "file_extension": ".py",
      "mimetype": "text/x-python",
      "name": "python",
      "nbconvert_exporter": "python",
      "pygments_lexer": "ipython3",
      "version": "3.8"
    }
  },
  "nbformat_minor": 5,
  "nbformat": 4,
  "cells": [
    {
      "id": "851041c2-6080-408d-b123-c3088e413fb4",
      "cell_type": "code",
      "source": "def format_number(num, fmt):\n    # Using format() function\n    result = format(num, fmt)\n    return result\n\n# Call the function with 145 and 'o'\nformatted_value = format_number(145, 'o')\n\n# Print the result\nprint(\"Formatted value:\", formatted_value)\n",
      "metadata": {
        "trusted": true
      },
      "outputs": [
        {
          "name": "stdout",
          "output_type": "stream",
          "text": "Formatted value: 221\n"
        }
      ],
      "execution_count": 1
    },
    {
      "id": "3e3fa90d-6db5-4039-a25b-a91b246354e9",
      "cell_type": "code",
      "source": "# Given values\npi = 3.14\nradius = 84\nwater_per_sq_meter = 1.4  # liters per square meter\n\n# Calculate the area of the pond\npond_area = pi * (radius ** 2)\n\n# Calculate total water in liters\ntotal_water = pond_area * water_per_sq_meter\n\n# Print results\nprint(\"Area of the pond:\", pond_area)\nprint(\"Total water in the pond (liters):\", int(total_water))\n",
      "metadata": {
        "trusted": true
      },
      "outputs": [
        {
          "name": "stdout",
          "output_type": "stream",
          "text": "Area of the pond: 22155.84\nTotal water in the pond (liters): 31018\n"
        }
      ],
      "execution_count": 2
    },
    {
      "id": "e8fe2738-8ec1-4f9e-a335-2f693bf52704",
      "cell_type": "code",
      "source": "# Given values\ndistance = 490   # meters\ntime_minutes = 7\ntime_seconds = time_minutes * 60  # convert minutes to seconds\n\n# Calculate speed\nspeed = distance / time_seconds\n\n# Print speed without decimals\nprint(\"Speed in meters per second:\", int(speed))\n",
      "metadata": {
        "trusted": true
      },
      "outputs": [
        {
          "name": "stdout",
          "output_type": "stream",
          "text": "Speed in meters per second: 1\n"
        }
      ],
      "execution_count": 3
    },
    {
      "id": "0c4ca47f-842d-43dd-bf4a-da8ebc876f31",
      "cell_type": "code",
      "source": "",
      "metadata": {
        "trusted": true
      },
      "outputs": [],
      "execution_count": null
    }
  ]
}