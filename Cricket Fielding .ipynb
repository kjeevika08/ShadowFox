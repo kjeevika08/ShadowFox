{
  "metadata": {
    "kernelspec": {
      "name": "python",
      "display_name": "Python (Pyodide)",
      "language": "python"
    },
    "language_info": {
      "codemirror_mode": {
        "name": "python",
        "version": 3
      },
      "file_extension": ".py",
      "mimetype": "text/x-python",
      "name": "python",
      "nbconvert_exporter": "python",
      "pygments_lexer": "ipython3",
      "version": "3.8"
    }
  },
  "nbformat_minor": 5,
  "nbformat": 4,
  "cells": [
    {
      "id": "fb22a4c1-b9dd-46f9-9912-91ff5500b6ae",
      "cell_type": "code",
      "source": "import csv\nimport pandas as pd\n\nFIELDING_CSV = \"fielding_data.csv\"\n\n# Define field names\nFIELDS = [\n    'Over.Ball', 'Bowler', 'Batsman', 'Shot Type', 'Direction',\n    'Fielder', 'Position', 'Action', 'Outcome', 'Runs Saved',\n    'Runs Conceded', 'Wicket', 'Reaction Time', 'Throw Accuracy', 'Effort Level'\n]\n\n# Function to collect data for each ball\ndef collect_fielding_data():\n    records = []\n    num_entries = int(input(\"Enter number of balls to record: \"))\n\n    for _ in range(num_entries):\n        print(\"\\n--- Enter details for ball ---\")\n        record = {field: input(f\"{field}: \") for field in FIELDS}\n        records.append(record)\n\n    return records\n\n\n# Save data to CSV\ndef save_to_csv(records, filename=FIELDING_CSV):\n    try:\n        with open(filename, mode='a', newline='') as file:\n            writer = csv.DictWriter(file, fieldnames=FIELDS)\n\n            # Write header only if file is empty\n            file.seek(0)\n            if not file.read(1):\n                writer.writeheader()\n\n            writer.writerows(records)\n\n        print(f\"\\nData saved to {filename}\")\n    except Exception as e:\n        print(\"Error saving file:\", e)\n\n\n# Basic analysis on the fielding data\ndef analyze_fielding(filename=FIELDING_CSV):\n    try:\n        df = pd.read_csv(filename)\n\n        print(\"\\n========== Fielding Performance Summary ==========\")\n\n        players = df['Fielder'].unique()\n        for player in players:\n            pdata = df[df['Fielder'] == player]\n\n            total_actions = len(pdata)\n            runs_saved = pdata['Runs Saved'].astype(int).sum()\n            runs_conceded = pdata['Runs Conceded'].astype(int).sum()\n            wickets = pdata['Wicket'].str.lower().eq('yes').sum()\n            misfields = pdata['Action'].str.lower().eq('Missfield').sum()\n\n            print(f\"\\nPlayer: {player}\")\n            print(f\"Total Actions: {total_actions}\")\n            print(f\"Runs Saved: {runs_saved}\")\n            print(f\"Runs Conceded: {runs_conceded}\")\n            print(f\"Wickets Contributed: {wickets}\")\n            print(f\"Misfields: {misfields}\")\n\n        print(\"\\n===================================================\")\n\n    except Exception as e:\n        print(\"Error analyzing data:\", e)\n\n\n# Optional: Export to Excel\ndef export_to_excel(csv_file=FIELDING_CSV, excel_file='fielding_data.xlsx'):\n    try:\n        df = pd.read_csv(csv_file)\n        df.to_excel(excel_file, index=False)\n        print(f\"\\nData exported to {excel_file}\")\n    except Exception as e:\n        print(\"Error exporting to Excel:\", e)\n",
      "metadata": {
        "trusted": true
      },
      "outputs": [],
      "execution_count": 1
    },
    {
      "id": "76814817-cc87-4432-bebc-da3ff861f686",
      "cell_type": "code",
      "source": "",
      "metadata": {
        "trusted": true
      },
      "outputs": [],
      "execution_count": null
    },
    {
      "id": "35162a03-f719-4c10-ab76-502dc3cd0cce",
      "cell_type": "code",
      "source": "",
      "metadata": {
        "trusted": true
      },
      "outputs": [],
      "execution_count": null
    },
    {
      "id": "59d624c2-4479-4bb1-801b-b3c9b7b40ece",
      "cell_type": "code",
      "source": "import csv\nimport pandas as pd\n\nFIELDING_CSV = \"fielding_data.csv\"\n\n# Define field names\nFIELDS = [\n    'Over.Ball', 'Bowler', 'Batsman', 'Shot Type', 'Direction',\n    'Fielder', 'Position', 'Action', 'Outcome', 'Runs Saved',\n    'Runs Conceded', 'Wicket', 'Reaction Time', 'Throw Accuracy', 'Effort Level'\n]\n\n# Function to collect data for each ball\ndef collect_fielding_data():\n    records = []\n    num_entries = int(input(\"Enter number of balls to record: \"))\n\n    for _ in range(num_entries):\n        print(\"\\n--- Enter details for ball ---\")\n        record = {field: input(f\"{field}: \") for field in FIELDS}\n        records.append(record)\n\n    return records\n\n\n# Save data to CSV\ndef save_to_csv(records, filename=FIELDING_CSV):\n    try:\n        with open(filename, mode='a', newline='') as file:\n            writer = csv.DictWriter(file, fieldnames=FIELDS)\n\n            # Write header only if file is empty\n            file.seek(0)\n            if not file.read(1):\n                writer.writeheader()\n\n            writer.writerows(records)\n\n        print(f\"\\nData saved to {filename}\")\n    except Exception as e:\n        print(\"Error saving file:\", e)\n\n\n# Basic analysis on the fielding data\ndef analyze_fielding(filename=FIELDING_CSV):\n    try:\n        df = pd.read_csv(filename)\n\n        print(\"\\n========== Fielding Performance Summary ==========\")\n\n        players = df['Fielder'].unique()\n        for player in players:\n            pdata = df[df['Fielder'] == player]\n\n            total_actions = len(pdata)\n            runs_saved = pdata['Runs Saved'].astype(int).sum()\n            runs_conceded = pdata['Runs Conceded'].astype(int).sum()\n            wickets = pdata['Wicket'].str.lower().eq('yes').sum()\n            misfields = pdata['Action'].str.lower().eq('Missfield').sum()\n\n            print(f\"\\nPlayer: {player}\")\n            print(f\"Total Actions: {total_actions}\")\n            print(f\"Runs Saved: {runs_saved}\")\n            print(f\"Runs Conceded: {runs_conceded}\")\n            print(f\"Wickets Contributed: {wickets}\")\n            print(f\"Misfields: {misfields}\")\n\n        print(\"\\n===================================================\")\n\n    except Exception as e:\n        print(\"Error analyzing data:\", e)\n\n\n# Optional: Export to Excel\ndef export_to_excel(csv_file=FIELDING_CSV, excel_file='fielding_data.xlsx'):\n    try:\n        df = pd.read_csv(csv_file)\n        df.to_excel(excel_file, index=False)\n        print(f\"\\nData exported to {excel_file}\")\n    except Exception as e:\n        print(\"Error exporting to Excel:\", e)\n\n\n# ----------- Main Program -----------\nif __name__ == \"__main__\":\n    while True:\n        print(\"\\n--- Cricket Fielding Data Collection ---\")\n        print(\"1. Record new fielding data\")\n        print(\"2. Analyze fielding performance\")\n        print(\"3. Export data to Excel\")\n        print(\"4. Exit\")\n\n        choice = input(\"Enter your choice: \")\n\n        if choice == '1':\n            data = collect_fielding_data()\n            save_to_csv(data)\n        elif choice == '2':\n            analyze_fielding()\n        elif choice == '3':\n            export_to_excel()\n        elif choice == '4':\n            print(\"Exiting Program.\")\n            break\n        else:\n            print(\"Invalid choice. Try again.\")",
      "metadata": {
        "trusted": true
      },
      "outputs": [
        {
          "name": "stdout",
          "output_type": "stream",
          "text": "\n--- Cricket Fielding Data Collection ---\n1. Record new fielding data\n2. Analyze fielding performance\n3. Export data to Excel\n4. Exit\n"
        },
        {
          "output_type": "stream",
          "name": "stdin",
          "text": "Enter your choice:  3\n"
        },
        {
          "name": "stdout",
          "output_type": "stream",
          "text": "Error exporting to Excel: [Errno 44] No such file or directory: 'fielding_data.csv'\n\n--- Cricket Fielding Data Collection ---\n1. Record new fielding data\n2. Analyze fielding performance\n3. Export data to Excel\n4. Exit\n"
        },
        {
          "output_type": "stream",
          "name": "stdin",
          "text": "Enter your choice:  1\nEnter number of balls to record:  3\n"
        },
        {
          "name": "stdout",
          "output_type": "stream",
          "text": "\n--- Enter details for ball ---\n"
        },
        {
          "output_type": "stream",
          "name": "stdin",
          "text": "Over.Ball:  5\nBowler:  8\nBatsman:  9\nShot Type:  3\nDirection:  9\nFielder:  9\nPosition:  8\nAction:  6\nOutcome:  7\nRuns Saved:  8\nRuns Conceded:  9\nWicket:  9\nReaction Time:  7\nThrow Accuracy:  6\nEffort Level:  9\n"
        },
        {
          "name": "stdout",
          "output_type": "stream",
          "text": "\n--- Enter details for ball ---\n"
        },
        {
          "output_type": "stream",
          "name": "stdin",
          "text": "Over.Ball:  10\n"
        }
      ],
      "execution_count": null
    },
    {
      "id": "b93c6198-e2f2-4d3c-b721-3e3bab74b296",
      "cell_type": "code",
      "source": "",
      "metadata": {
        "trusted": true
      },
      "outputs": [],
      "execution_count": null
    }
  ]
}