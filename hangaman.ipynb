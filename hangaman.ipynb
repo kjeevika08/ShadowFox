{
  "metadata": {
    "kernelspec": {
      "name": "python",
      "display_name": "Python (Pyodide)",
      "language": "python"
    },
    "language_info": {
      "codemirror_mode": {
        "name": "python",
        "version": 3
      },
      "file_extension": ".py",
      "mimetype": "text/x-python",
      "name": "python",
      "nbconvert_exporter": "python",
      "pygments_lexer": "ipython3",
      "version": "3.8"
    }
  },
  "nbformat_minor": 5,
  "nbformat": 4,
  "cells": [
    {
      "id": "54862905-2581-4ca2-a197-8250ca663131",
      "cell_type": "code",
      "source": "import random\n\n# Word list with hints\nwords_with_hints = {\n    \"python\": \"A popular programming language.\",\n    \"elephant\": \"The largest land animal.\",\n    \"guitar\": \"A musical instrument with strings.\",\n    \"moon\": \"Earth's natural satellite.\",\n    \"pizza\": \"A popular Italian dish with cheese.\"\n}\n\n# Choose a random word and its hint\nword, hint = random.choice(list(words_with_hints.items()))\nguessed = [\"_\"] * len(word)\ntries = 6\nused_letters = []\n\nprint(\"Welcome to Hangman!\")\nprint(f\"Hint: {hint}\")\n\nwhile tries > 0 and \"_\" in guessed:\n    print(\"\\nWord: \" + \" \".join(guessed))\n    print(f\"Used letters: {', '.join(used_letters)}\")\n    print(f\"Tries left: {tries}\")\n    \n    guess = input(\"Guess a letter: \").lower()\n    \n    if not guess.isalpha() or len(guess) != 1:\n        print(\"Please enter a single alphabet letter.\")\n        continue\n    \n    if guess in used_letters:\n        print(\"You already used that letter.\")\n        continue\n\n    used_letters.append(guess)\n    \n    if guess in word:\n        for i, letter in enumerate(word):\n            if letter == guess:\n                guessed[i] = guess\n        print(\"Good guess!\")\n    else:\n        tries -= 1\n        print(\"Wrong guess!\")\n\nif \"_\" not in guessed:\n    print(f\"\\nCongratulations! You guessed the word: {word}\")\nelse:\n    print(f\"\\nGame Over! The word was: {word}\")",
      "metadata": {
        "trusted": true
      },
      "outputs": [
        {
          "name": "stdout",
          "output_type": "stream",
          "text": "Welcome to Hangman!\nHint: Earth's natural satellite.\n\nWord: _ _ _ _\nUsed letters: \nTries left: 6\n"
        },
        {
          "output_type": "stream",
          "name": "stdin",
          "text": "Guess a letter:  m\n"
        },
        {
          "name": "stdout",
          "output_type": "stream",
          "text": "Good guess!\n\nWord: m _ _ _\nUsed letters: m\nTries left: 6\n"
        },
        {
          "output_type": "stream",
          "name": "stdin",
          "text": "Guess a letter:  o\n"
        },
        {
          "name": "stdout",
          "output_type": "stream",
          "text": "Good guess!\n\nWord: m o o _\nUsed letters: m, o\nTries left: 6\n"
        },
        {
          "output_type": "stream",
          "name": "stdin",
          "text": "Guess a letter:  o\n"
        },
        {
          "name": "stdout",
          "output_type": "stream",
          "text": "You already used that letter.\n\nWord: m o o _\nUsed letters: m, o\nTries left: 6\n"
        },
        {
          "output_type": "stream",
          "name": "stdin",
          "text": "Guess a letter:  n\n"
        },
        {
          "name": "stdout",
          "output_type": "stream",
          "text": "Good guess!\n\nCongratulations! You guessed the word: moon\n"
        }
      ],
      "execution_count": 1
    },
    {
      "id": "29570fb5-4b7b-4299-a5ee-4bceb55f8581",
      "cell_type": "code",
      "source": "",
      "metadata": {
        "trusted": true
      },
      "outputs": [],
      "execution_count": null
    }
  ]
}