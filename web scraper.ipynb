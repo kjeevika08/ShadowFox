{
  "metadata": {
    "kernelspec": {
      "name": "python",
      "display_name": "Python (Pyodide)",
      "language": "python"
    },
    "language_info": {
      "codemirror_mode": {
        "name": "python",
        "version": 3
      },
      "file_extension": ".py",
      "mimetype": "text/x-python",
      "name": "python",
      "nbconvert_exporter": "python",
      "pygments_lexer": "ipython3",
      "version": "3.8"
    }
  },
  "nbformat_minor": 5,
  "nbformat": 4,
  "cells": [
    {
      "id": "01905dff-a3e2-4bfe-9080-d3f41ec8c6e1",
      "cell_type": "code",
      "source": "{\n \"cells\": [\n  {\n   \"cell_type\": \"code\",\n   \"execution_count\": 1,\n   \"id\": \"f38ead12-ad95-4535-8914-7cd1a1904402\",\n   \"metadata\": {},\n   \"outputs\": [\n    {\n     \"name\": \"stdout\",\n     \"output_type\": \"stream\",\n     \"text\": [\n      \"Quote: “The world as we have created it is a process of our thinking. It cannot be changed without changing our thinking.”\\n\",\n      \"Author: Albert Einstein\\n\",\n      \"\\n\",\n      \"Quote: “It is our choices, Harry, that show what we truly are, far more than our abilities.”\\n\",\n      \"Author: J.K. Rowling\\n\",\n      \"\\n\",\n      \"Quote: “There are only two ways to live your life. One is as though nothing is a miracle. The other is as though everything is a miracle.”\\n\",\n      \"Author: Albert Einstein\\n\",\n      \"\\n\",\n      \"Quote: “The person, be it gentleman or lady, who has not pleasure in a good novel, must be intolerably stupid.”\\n\",\n      \"Author: Jane Austen\\n\",\n      \"\\n\",\n      \"Quote: “Imperfection is beauty, madness is genius and it's better to be absolutely ridiculous than absolutely boring.”\\n\",\n      \"Author: Marilyn Monroe\\n\",\n      \"\\n\",\n      \"Quote: “Try not to become a man of success. Rather become a man of value.”\\n\",\n      \"Author: Albert Einstein\\n\",\n      \"\\n\",\n      \"Quote: “It is better to be hated for what you are than to be loved for what you are not.”\\n\",\n      \"Author: André Gide\\n\",\n      \"\\n\",\n      \"Quote: “I have not failed. I've just found 10,000 ways that won't work.”\\n\",\n      \"Author: Thomas A. Edison\\n\",\n      \"\\n\",\n      \"Quote: “A woman is like a tea bag; you never know how strong it is until it's in hot water.”\\n\",\n      \"Author: Eleanor Roosevelt\\n\",\n      \"\\n\",\n      \"Quote: “A day without sunshine is like, you know, night.”\\n\",\n      \"Author: Steve Martin\\n\",\n      \"\\n\"\n     ]\n    }\n   ],\n   \"source\": [\n    \"import requests\\n\",\n    \"from bs4 import BeautifulSoup\\n\",\n    \"\\n\",\n    \"url = 'http://quotes.toscrape.com/page/1/'\\n\",\n    \"\\n\",\n    \"# Make a GET request\\n\",\n    \"response = requests.get(url)\\n\",\n    \"\\n\",\n    \"# Parse the HTML content using BeautifulSoup\\n\",\n    \"soup = BeautifulSoup(response.text, 'html.parser')\\n\",\n    \"\\n\",\n    \"# Find all quote blocks\\n\",\n    \"quotes = soup.find_all('div', class_='quote')\\n\",\n    \"\\n\",\n    \"# Extract and print quotes and authors\\n\",\n    \"for quote in quotes:\\n\",\n    \"    text = quote.find('span', class_='text').get_text()\\n\",\n    \"    author = quote.find('small', class_='author').get_text()\\n\",\n    \"    print(f\\\"Quote: {text}\\\\nAuthor: {author}\\\\n\\\")\"\n   ]\n  },\n  {\n   \"cell_type\": \"code\",\n   \"execution_count\": 'null',\n   \"id\": \"4223a1fd-5b34-4776-8d65-f5da4778447d\",\n   \"metadata\": {},\n   \"outputs\": [],\n   \"source\": []\n  }\n ],\n \"metadata\": {\n  \"kernelspec\": {\n   \"display_name\": \"Python 3 (ipykernel)\",\n   \"language\": \"python\",\n   \"name\": \"python3\"\n  },\n  \"language_info\": {\n   \"codemirror_mode\": {\n    \"name\": \"ipython\",\n    \"version\": 3\n   },\n   \"file_extension\": \".py\",\n   \"mimetype\": \"text/x-python\",\n   \"name\": \"python\",\n   \"nbconvert_exporter\": \"python\",\n   \"pygments_lexer\": \"ipython3\",\n   \"version\": \"3.13.5\"\n  }\n },\n \"nbformat\": 4,\n \"nbformat_minor\": 5\n}",
      "metadata": {
        "trusted": true
      },
      "outputs": [
        {
          "execution_count": 4,
          "output_type": "execute_result",
          "data": {
            "text/plain": "{'cells': [{'cell_type': 'code',\n   'execution_count': 1,\n   'id': 'f38ead12-ad95-4535-8914-7cd1a1904402',\n   'metadata': {},\n   'outputs': [{'name': 'stdout',\n     'output_type': 'stream',\n     'text': ['Quote: “The world as we have created it is a process of our thinking. It cannot be changed without changing our thinking.”\\n',\n      'Author: Albert Einstein\\n',\n      '\\n',\n      'Quote: “It is our choices, Harry, that show what we truly are, far more than our abilities.”\\n',\n      'Author: J.K. Rowling\\n',\n      '\\n',\n      'Quote: “There are only two ways to live your life. One is as though nothing is a miracle. The other is as though everything is a miracle.”\\n',\n      'Author: Albert Einstein\\n',\n      '\\n',\n      'Quote: “The person, be it gentleman or lady, who has not pleasure in a good novel, must be intolerably stupid.”\\n',\n      'Author: Jane Austen\\n',\n      '\\n',\n      \"Quote: “Imperfection is beauty, madness is genius and it's better to be absolutely ridiculous than absolutely boring.”\\n\",\n      'Author: Marilyn Monroe\\n',\n      '\\n',\n      'Quote: “Try not to become a man of success. Rather become a man of value.”\\n',\n      'Author: Albert Einstein\\n',\n      '\\n',\n      'Quote: “It is better to be hated for what you are than to be loved for what you are not.”\\n',\n      'Author: André Gide\\n',\n      '\\n',\n      \"Quote: “I have not failed. I've just found 10,000 ways that won't work.”\\n\",\n      'Author: Thomas A. Edison\\n',\n      '\\n',\n      \"Quote: “A woman is like a tea bag; you never know how strong it is until it's in hot water.”\\n\",\n      'Author: Eleanor Roosevelt\\n',\n      '\\n',\n      'Quote: “A day without sunshine is like, you know, night.”\\n',\n      'Author: Steve Martin\\n',\n      '\\n']}],\n   'source': ['import requests\\n',\n    'from bs4 import BeautifulSoup\\n',\n    '\\n',\n    \"url = 'http://quotes.toscrape.com/page/1/'\\n\",\n    '\\n',\n    '# Make a GET request\\n',\n    'response = requests.get(url)\\n',\n    '\\n',\n    '# Parse the HTML content using BeautifulSoup\\n',\n    \"soup = BeautifulSoup(response.text, 'html.parser')\\n\",\n    '\\n',\n    '# Find all quote blocks\\n',\n    \"quotes = soup.find_all('div', class_='quote')\\n\",\n    '\\n',\n    '# Extract and print quotes and authors\\n',\n    'for quote in quotes:\\n',\n    \"    text = quote.find('span', class_='text').get_text()\\n\",\n    \"    author = quote.find('small', class_='author').get_text()\\n\",\n    '    print(f\"Quote: {text}\\\\nAuthor: {author}\\\\n\")']},\n  {'cell_type': 'code',\n   'execution_count': 'null',\n   'id': '4223a1fd-5b34-4776-8d65-f5da4778447d',\n   'metadata': {},\n   'outputs': [],\n   'source': []}],\n 'metadata': {'kernelspec': {'display_name': 'Python 3 (ipykernel)',\n   'language': 'python',\n   'name': 'python3'},\n  'language_info': {'codemirror_mode': {'name': 'ipython', 'version': 3},\n   'file_extension': '.py',\n   'mimetype': 'text/x-python',\n   'name': 'python',\n   'nbconvert_exporter': 'python',\n   'pygments_lexer': 'ipython3',\n   'version': '3.13.5'}},\n 'nbformat': 4,\n 'nbformat_minor': 5}"
          },
          "metadata": {}
        }
      ],
      "execution_count": 4
    },
    {
      "id": "5b7bec8a-0b3c-4293-8fe1-194cc54854be",
      "cell_type": "code",
      "source": "",
      "metadata": {
        "trusted": true
      },
      "outputs": [],
      "execution_count": null
    }
  ]
}