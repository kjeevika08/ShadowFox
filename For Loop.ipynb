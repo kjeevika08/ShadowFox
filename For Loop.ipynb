{
  "metadata": {
    "kernelspec": {
      "name": "python",
      "display_name": "Python (Pyodide)",
      "language": "python"
    },
    "language_info": {
      "codemirror_mode": {
        "name": "python",
        "version": 3
      },
      "file_extension": ".py",
      "mimetype": "text/x-python",
      "name": "python",
      "nbconvert_exporter": "python",
      "pygments_lexer": "ipython3",
      "version": "3.8"
    }
  },
  "nbformat_minor": 5,
  "nbformat": 4,
  "cells": [
    {
      "id": "24aa5a84-cf71-4a58-a840-80eb9ff713f7",
      "cell_type": "code",
      "source": "import random\n\n# Number of rolls\nnum_rolls = 20\n\n# Counters\ncount_6 = 0\ncount_1 = 0\ncount_two_6s = 0\n\nprevious_roll = None  # To track consecutive rolls\n\n# Roll the die\nfor i in range(num_rolls):\n    roll = random.randint(1, 6)  # Roll between 1 and 6\n    print(f\"Roll {i+1}: {roll}\")\n\n    # Count 6s and 1s\n    if roll == 6:\n        count_6 += 1\n    if roll == 1:\n        count_1 += 1\n\n    # Check for two 6s in a row\n    if previous_roll == 6 and roll == 6:\n        count_two_6s += 1\n\n    previous_roll = roll  # Update last roll\n\n# Print statistics\nprint(\"\\n--- Statistics ---\")\nprint(\"Total rolls:\", num_rolls)\nprint(\"Number of times rolled a 6:\", count_6)\nprint(\"Number of times rolled a 1:\", count_1)\nprint(\"Number of times rolled two 6s in a row:\", count_two_6s)\n",
      "metadata": {
        "trusted": true
      },
      "outputs": [
        {
          "name": "stdout",
          "output_type": "stream",
          "text": "Roll 1: 3\nRoll 2: 6\nRoll 3: 6\nRoll 4: 4\nRoll 5: 1\nRoll 6: 5\nRoll 7: 6\nRoll 8: 6\nRoll 9: 6\nRoll 10: 4\nRoll 11: 2\nRoll 12: 4\nRoll 13: 4\nRoll 14: 1\nRoll 15: 2\nRoll 16: 5\nRoll 17: 4\nRoll 18: 5\nRoll 19: 5\nRoll 20: 5\n\n--- Statistics ---\nTotal rolls: 20\nNumber of times rolled a 6: 5\nNumber of times rolled a 1: 2\nNumber of times rolled two 6s in a row: 3\n"
        }
      ],
      "execution_count": 1
    },
    {
      "id": "c9ee0438-65fb-4abc-80d0-a8ee581b7190",
      "cell_type": "code",
      "source": "# Total jumping jacks to complete\ntotal_jumping_jacks = 100\nset_size = 10\ncompleted = 0\n\nwhile completed < total_jumping_jacks:\n    # Do one set\n    completed += set_size\n    print(f\"\\nYou completed {completed} jumping jacks.\")\n\n    # If completed all, stop\n    if completed == total_jumping_jacks:\n        print(\"🎉 Congratulations! You completed the workout.\")\n        break\n\n    # Ask if tired\n    tired = input(\"Are you tired? (yes/no): \").strip().lower()\n\n    if tired in [\"yes\", \"y\"]:\n        skip = input(\"Do you want to skip the remaining sets? (yes/no): \").strip().lower()\n        if skip in [\"yes\", \"y\"]:\n            print(f\"\\nYou completed a total of {completed} jumping jacks.\")\n            break\n        else:\n            print(f\"{total_jumping_jacks - completed} jumping jacks remaining.\")\n    else:\n        print(f\"{total_jumping_jacks - completed} jumping jacks remaining.\")\n",
      "metadata": {
        "trusted": true
      },
      "outputs": [
        {
          "name": "stdout",
          "output_type": "stream",
          "text": "\nYou completed 10 jumping jacks.\n"
        },
        {
          "output_type": "stream",
          "name": "stdin",
          "text": "Are you tired? (yes/no):  no\n"
        },
        {
          "name": "stdout",
          "output_type": "stream",
          "text": "90 jumping jacks remaining.\n\nYou completed 20 jumping jacks.\n"
        },
        {
          "output_type": "stream",
          "name": "stdin",
          "text": "Are you tired? (yes/no):  yes\nDo you want to skip the remaining sets? (yes/no):  yes\n"
        },
        {
          "name": "stdout",
          "output_type": "stream",
          "text": "\nYou completed a total of 20 jumping jacks.\n"
        }
      ],
      "execution_count": 2
    },
    {
      "id": "a2f9091f-d2ec-4bf7-b29c-b7020a0fe9e4",
      "cell_type": "code",
      "source": "",
      "metadata": {
        "trusted": true
      },
      "outputs": [],
      "execution_count": null
    }
  ]
}