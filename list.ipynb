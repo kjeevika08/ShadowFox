{
  "metadata": {
    "kernelspec": {
      "name": "python",
      "display_name": "Python (Pyodide)",
      "language": "python"
    },
    "language_info": {
      "codemirror_mode": {
        "name": "python",
        "version": 3
      },
      "file_extension": ".py",
      "mimetype": "text/x-python",
      "name": "python",
      "nbconvert_exporter": "python",
      "pygments_lexer": "ipython3",
      "version": "3.8"
    }
  },
  "nbformat_minor": 5,
  "nbformat": 4,
  "cells": [
    {
      "id": "ce15056f-a80b-4f10-b3b5-2ca880896147",
      "cell_type": "code",
      "source": "# Initial Justice League list\njustice_league = [\"Superman\", \"Batman\", \"Wonder Woman\", \"Flash\", \"Aquaman\", \"Green Lantern\"]\nprint(\"Initial Justice League:\", justice_league)\n\n# 1. Calculate the number of members\nprint(\"Number of members:\", len(justice_league))\n\n# 2. Add Batgirl and Nightwing\njustice_league.extend([\"Batgirl\", \"Nightwing\"])\nprint(\"After adding Batgirl and Nightwing:\", justice_league)\n\n# 3. Move Wonder Woman to the beginning\njustice_league.remove(\"Wonder Woman\")\njustice_league.insert(0, \"Wonder Woman\")\nprint(\"After moving Wonder Woman to the beginning:\", justice_league)\n\n# 4. Separate Aquaman and Flash by inserting Superman between them\njustice_league.remove(\"Superman\")  # remove Superman first\nflash_index = justice_league.index(\"Flash\")\njustice_league.insert(flash_index, \"Superman\")\nprint(\"After separating Aquaman and Flash:\", justice_league)\n\n# 5. Replace existing list with new members\njustice_league = [\"Cyborg\", \"Shazam\", \"Hawkgirl\", \"Martian Manhunter\", \"Green Arrow\"]\nprint(\"New Justice League team:\", justice_league)\n\n# 6. Sort alphabetically\njustice_league.sort()\nprint(\"Alphabetically sorted Justice League:\", justice_league)\nprint(\"New leader (0th index):\", justice_league[0])\n\n",
      "metadata": {
        "trusted": true
      },
      "outputs": [
        {
          "name": "stdout",
          "output_type": "stream",
          "text": "Initial Justice League: ['Superman', 'Batman', 'Wonder Woman', 'Flash', 'Aquaman', 'Green Lantern']\nNumber of members: 6\nAfter adding Batgirl and Nightwing: ['Superman', 'Batman', 'Wonder Woman', 'Flash', 'Aquaman', 'Green Lantern', 'Batgirl', 'Nightwing']\nAfter moving Wonder Woman to the beginning: ['Wonder Woman', 'Superman', 'Batman', 'Flash', 'Aquaman', 'Green Lantern', 'Batgirl', 'Nightwing']\nAfter separating Aquaman and Flash: ['Wonder Woman', 'Batman', 'Superman', 'Flash', 'Aquaman', 'Green Lantern', 'Batgirl', 'Nightwing']\nNew Justice League team: ['Cyborg', 'Shazam', 'Hawkgirl', 'Martian Manhunter', 'Green Arrow']\nAlphabetically sorted Justice League: ['Cyborg', 'Green Arrow', 'Hawkgirl', 'Martian Manhunter', 'Shazam']\nNew leader (0th index): Cyborg\n"
        }
      ],
      "execution_count": 2
    },
    {
      "id": "0d419e0c-70ea-47a5-898a-096d948dcd26",
      "cell_type": "code",
      "source": "",
      "metadata": {
        "trusted": true
      },
      "outputs": [],
      "execution_count": null
    }
  ]
}