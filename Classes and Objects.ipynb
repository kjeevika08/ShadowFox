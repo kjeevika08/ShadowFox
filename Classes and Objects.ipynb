{
  "metadata": {
    "kernelspec": {
      "name": "python",
      "display_name": "Python (Pyodide)",
      "language": "python"
    },
    "language_info": {
      "codemirror_mode": {
        "name": "python",
        "version": 3
      },
      "file_extension": ".py",
      "mimetype": "text/x-python",
      "name": "python",
      "nbconvert_exporter": "python",
      "pygments_lexer": "ipython3",
      "version": "3.8"
    }
  },
  "nbformat_minor": 5,
  "nbformat": 4,
  "cells": [
    {
      "id": "960dc7a4-02a3-4bbd-9e47-b9d11edd456c",
      "cell_type": "code",
      "source": "class Avenger:\n    def __init__(self, name, age, gender, super_power, weapon, leader=False):\n        self.name = name\n        self.age = age\n        self.gender = gender\n        self.super_power = super_power\n        self.weapon = weapon\n        self.leader = leader  # Boolean flag for leader\n\n    def get_info(self):\n        \"\"\"Return details about the Avenger\"\"\"\n        return (f\"Name: {self.name}, Age: {self.age}, Gender: {self.gender}, \"\n                f\"Super Power: {self.super_power}, Weapon: {self.weapon}\")\n\n    def is_leader(self):\n        \"\"\"Check if Avenger is the leader\"\"\"\n        return f\"{self.name} is the leader of the Avengers.\" if self.leader else f\"{self.name} is not the leader.\"\n\n\n# Create Avengers\ncaptain_america = Avenger(\"Captain America\", 100, \"Male\", \"Super Strength\", \"Shield\", leader=True)\niron_man = Avenger(\"Iron Man\", 45, \"Male\", \"Technology\", \"Armor\")\nblack_widow = Avenger(\"Black Widow\", 35, \"Female\", \"Superhuman\", \"Batons\")\nhulk = Avenger(\"Hulk\", 40, \"Male\", \"Unlimited Strength\", \"No Weapon\")\nthor = Avenger(\"Thor\", 1500, \"Male\", \"Super Energy\", \"Mjölnir\")\nhawkeye = Avenger(\"Hawkeye\", 38, \"Male\", \"Fighting Skills\", \"Bow and Arrows\")\n\n# Store them in a list\nsuper_heroes = [captain_america, iron_man, black_widow, hulk, thor, hawkeye]\n\n# Display information\nprint(\"=== Avengers Team ===\")\nfor hero in super_heroes:\n    print(hero.get_info())\n    print(hero.is_leader())\n    print(\"-\" * 40)\n",
      "metadata": {
        "trusted": true
      },
      "outputs": [
        {
          "name": "stdout",
          "output_type": "stream",
          "text": "=== Avengers Team ===\nName: Captain America, Age: 100, Gender: Male, Super Power: Super Strength, Weapon: Shield\nCaptain America is the leader of the Avengers.\n----------------------------------------\nName: Iron Man, Age: 45, Gender: Male, Super Power: Technology, Weapon: Armor\nIron Man is not the leader.\n----------------------------------------\nName: Black Widow, Age: 35, Gender: Female, Super Power: Superhuman, Weapon: Batons\nBlack Widow is not the leader.\n----------------------------------------\nName: Hulk, Age: 40, Gender: Male, Super Power: Unlimited Strength, Weapon: No Weapon\nHulk is not the leader.\n----------------------------------------\nName: Thor, Age: 1500, Gender: Male, Super Power: Super Energy, Weapon: Mjölnir\nThor is not the leader.\n----------------------------------------\nName: Hawkeye, Age: 38, Gender: Male, Super Power: Fighting Skills, Weapon: Bow and Arrows\nHawkeye is not the leader.\n----------------------------------------\n"
        }
      ],
      "execution_count": 1
    },
    {
      "id": "1bb5d6a3-4654-4524-b611-756525ee8399",
      "cell_type": "code",
      "source": "",
      "metadata": {
        "trusted": true
      },
      "outputs": [],
      "execution_count": null
    }
  ]
}