{
  "metadata": {
    "kernelspec": {
      "name": "python",
      "display_name": "Python (Pyodide)",
      "language": "python"
    },
    "language_info": {
      "codemirror_mode": {
        "name": "python",
        "version": 3
      },
      "file_extension": ".py",
      "mimetype": "text/x-python",
      "name": "python",
      "nbconvert_exporter": "python",
      "pygments_lexer": "ipython3",
      "version": "3.8"
    }
  },
  "nbformat_minor": 5,
  "nbformat": 4,
  "cells": [
    {
      "id": "9ceada5a-6183-4789-99d7-e01cc2563c51",
      "cell_type": "code",
      "source": "def format_value(value, format_type):\n    result = format(value, format_type)\n    return result\n\n# Call the function\nformatted_output = format_value(145, 'o')\nprint(\"Formatted result:\", formatted_output)\n",
      "metadata": {
        "trusted": true
      },
      "outputs": [
        {
          "name": "stdout",
          "output_type": "stream",
          "text": "Formatted result: 221\n"
        }
      ],
      "execution_count": 1
    },
    {
      "id": "a94a6824-dd64-4993-84f8-08a9184e0592",
      "cell_type": "code",
      "source": "# Given values\nradius = 84  # in meters\npi = 3.14\nwater_per_sqm = 1.4  # liters per square meter\n\n# Calculate area of the pond\narea = pi * radius ** 2\n\n# Calculate total water (in liters)\ntotal_water = area * water_per_sqm\n\n# Print result without decimals\nprint(\"Total water in the pond (liters):\", int(total_water))",
      "metadata": {
        "trusted": true
      },
      "outputs": [
        {
          "name": "stdout",
          "output_type": "stream",
          "text": "Total water in the pond (liters): 31018\n"
        }
      ],
      "execution_count": 2
    },
    {
      "id": "077c5523-b89e-4729-806b-241ed23f841b",
      "cell_type": "code",
      "source": "# Given values\ndistance = 490  # in meters\ntime_minutes = 7\ntime_seconds = time_minutes * 60  # convert to seconds\n\n# Calculate speed in meters/second\nspeed = distance / time_seconds\n\n# Print speed without decimal point\nprint(\"Speed (m/s):\", int(speed))\n",
      "metadata": {
        "trusted": true
      },
      "outputs": [
        {
          "name": "stdout",
          "output_type": "stream",
          "text": "Speed (m/s): 1\n"
        }
      ],
      "execution_count": 3
    },
    {
      "id": "39d7e440-31cc-4cb4-a14f-f7d546c52611",
      "cell_type": "code",
      "source": "",
      "metadata": {
        "trusted": true
      },
      "outputs": [],
      "execution_count": null
    }
  ]
}